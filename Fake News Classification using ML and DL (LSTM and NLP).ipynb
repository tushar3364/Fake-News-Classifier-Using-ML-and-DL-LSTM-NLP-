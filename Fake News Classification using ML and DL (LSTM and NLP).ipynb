{
 "cells": [
  {
   "cell_type": "markdown",
   "id": "dd86666e",
   "metadata": {},
   "source": [
    "# <center><h1> Fake News Classification </h1></center>"
   ]
  },
  {
   "cell_type": "markdown",
   "id": "6f74b13b",
   "metadata": {},
   "source": [
    "### Fake News Classification is an essential task in today's information-driven world. We have to build a model to classify news articles as reliable or potentially unreliable based on the given dataset."
   ]
  },
  {
   "cell_type": "markdown",
   "id": "6991ac96",
   "metadata": {},
   "source": [
    "**train.csv**: A full training dataset with the following attributes:\n",
    "\n",
    " * id: unique id for a news article\n",
    " * title: the title of a news article\n",
    " * author: author of the news article\n",
    " * text: the text of the article; could be incomplete\n",
    " * label: a label that marks the article as potentially unreliable\n",
    " 1: unreliable , 0: reliable\n",
    "\n",
    "**test.csv**: A full dataset without label, on which prediction is to be done by building a highly accurate healthy model.\n",
    "\n",
    "\n",
    "**The Steps involved are  :** \n",
    "1. Importing Libraries and Data to be used                         \n",
    "2. Data Preprocessing                        \n",
    "3. Model Selection and Evaluation                      \n",
    "4. Predictions on Test Data                     \n",
    "\n",
    "Dataset is available at Kaggle : https://www.kaggle.com/competitions/fake-news/data"
   ]
  },
  {
   "cell_type": "markdown",
   "id": "299fe881",
   "metadata": {},
   "source": [
    "## Step 1. Importing Libraries and Data to be used"
   ]
  },
  {
   "cell_type": "code",
   "execution_count": 1,
   "id": "39cb2ba5",
   "metadata": {},
   "outputs": [
    {
     "name": "stderr",
     "output_type": "stream",
     "text": [
      "[nltk_data] Downloading package stopwords to\n",
      "[nltk_data]     C:\\Users\\Tushar\\AppData\\Roaming\\nltk_data...\n",
      "[nltk_data]   Package stopwords is already up-to-date!\n"
     ]
    }
   ],
   "source": [
    "import numpy as np #linear algebra\n",
    "import pandas as pd # data preprocessing\n",
    "\n",
    "import nltk # natural language toolkit (NLP tasks)\n",
    "import re # regular expression\n",
    "from nltk.corpus import stopwords\n",
    "nltk.download('stopwords')\n",
    "\n",
    "# importing tensorflow packages\n",
    "from tensorflow.keras.layers import Embedding, Dropout\n",
    "from tensorflow.keras.preprocessing.sequence import pad_sequences\n",
    "from tensorflow.keras.layers import Dense\n",
    "from tensorflow.keras.preprocessing.text import one_hot\n",
    "from tensorflow.keras.models import Sequential\n",
    "from tensorflow.keras.layers import LSTM, GRU, Bidirectional\n",
    "\n",
    "# import sklearn packages\n",
    "from sklearn.metrics import classification_report, accuracy_score\n",
    "from sklearn.linear_model import LogisticRegression\n",
    "from sklearn.tree import DecisionTreeClassifier\n",
    "from sklearn.ensemble import RandomForestClassifier\n",
    "from xgboost import XGBClassifier\n",
    "from catboost import CatBoostClassifier\n",
    "from sklearn.naive_bayes import MultinomialNB"
   ]
  },
  {
   "cell_type": "code",
   "execution_count": 2,
   "id": "d7ef425f",
   "metadata": {},
   "outputs": [
    {
     "data": {
      "text/html": [
       "<div>\n",
       "<style scoped>\n",
       "    .dataframe tbody tr th:only-of-type {\n",
       "        vertical-align: middle;\n",
       "    }\n",
       "\n",
       "    .dataframe tbody tr th {\n",
       "        vertical-align: top;\n",
       "    }\n",
       "\n",
       "    .dataframe thead th {\n",
       "        text-align: right;\n",
       "    }\n",
       "</style>\n",
       "<table border=\"1\" class=\"dataframe\">\n",
       "  <thead>\n",
       "    <tr style=\"text-align: right;\">\n",
       "      <th></th>\n",
       "      <th>id</th>\n",
       "      <th>title</th>\n",
       "      <th>author</th>\n",
       "      <th>text</th>\n",
       "      <th>label</th>\n",
       "    </tr>\n",
       "  </thead>\n",
       "  <tbody>\n",
       "    <tr>\n",
       "      <th>0</th>\n",
       "      <td>0</td>\n",
       "      <td>House Dem Aide: We Didn’t Even See Comey’s Let...</td>\n",
       "      <td>Darrell Lucus</td>\n",
       "      <td>House Dem Aide: We Didn’t Even See Comey’s Let...</td>\n",
       "      <td>1</td>\n",
       "    </tr>\n",
       "    <tr>\n",
       "      <th>1</th>\n",
       "      <td>1</td>\n",
       "      <td>FLYNN: Hillary Clinton, Big Woman on Campus - ...</td>\n",
       "      <td>Daniel J. Flynn</td>\n",
       "      <td>Ever get the feeling your life circles the rou...</td>\n",
       "      <td>0</td>\n",
       "    </tr>\n",
       "    <tr>\n",
       "      <th>2</th>\n",
       "      <td>2</td>\n",
       "      <td>Why the Truth Might Get You Fired</td>\n",
       "      <td>Consortiumnews.com</td>\n",
       "      <td>Why the Truth Might Get You Fired October 29, ...</td>\n",
       "      <td>1</td>\n",
       "    </tr>\n",
       "    <tr>\n",
       "      <th>3</th>\n",
       "      <td>3</td>\n",
       "      <td>15 Civilians Killed In Single US Airstrike Hav...</td>\n",
       "      <td>Jessica Purkiss</td>\n",
       "      <td>Videos 15 Civilians Killed In Single US Airstr...</td>\n",
       "      <td>1</td>\n",
       "    </tr>\n",
       "    <tr>\n",
       "      <th>4</th>\n",
       "      <td>4</td>\n",
       "      <td>Iranian woman jailed for fictional unpublished...</td>\n",
       "      <td>Howard Portnoy</td>\n",
       "      <td>Print \\nAn Iranian woman has been sentenced to...</td>\n",
       "      <td>1</td>\n",
       "    </tr>\n",
       "    <tr>\n",
       "      <th>...</th>\n",
       "      <td>...</td>\n",
       "      <td>...</td>\n",
       "      <td>...</td>\n",
       "      <td>...</td>\n",
       "      <td>...</td>\n",
       "    </tr>\n",
       "    <tr>\n",
       "      <th>20795</th>\n",
       "      <td>20795</td>\n",
       "      <td>Rapper T.I.: Trump a ’Poster Child For White S...</td>\n",
       "      <td>Jerome Hudson</td>\n",
       "      <td>Rapper T. I. unloaded on black celebrities who...</td>\n",
       "      <td>0</td>\n",
       "    </tr>\n",
       "    <tr>\n",
       "      <th>20796</th>\n",
       "      <td>20796</td>\n",
       "      <td>N.F.L. Playoffs: Schedule, Matchups and Odds -...</td>\n",
       "      <td>Benjamin Hoffman</td>\n",
       "      <td>When the Green Bay Packers lost to the Washing...</td>\n",
       "      <td>0</td>\n",
       "    </tr>\n",
       "    <tr>\n",
       "      <th>20797</th>\n",
       "      <td>20797</td>\n",
       "      <td>Macy’s Is Said to Receive Takeover Approach by...</td>\n",
       "      <td>Michael J. de la Merced and Rachel Abrams</td>\n",
       "      <td>The Macy’s of today grew from the union of sev...</td>\n",
       "      <td>0</td>\n",
       "    </tr>\n",
       "    <tr>\n",
       "      <th>20798</th>\n",
       "      <td>20798</td>\n",
       "      <td>NATO, Russia To Hold Parallel Exercises In Bal...</td>\n",
       "      <td>Alex Ansary</td>\n",
       "      <td>NATO, Russia To Hold Parallel Exercises In Bal...</td>\n",
       "      <td>1</td>\n",
       "    </tr>\n",
       "    <tr>\n",
       "      <th>20799</th>\n",
       "      <td>20799</td>\n",
       "      <td>What Keeps the F-35 Alive</td>\n",
       "      <td>David Swanson</td>\n",
       "      <td>David Swanson is an author, activist, journa...</td>\n",
       "      <td>1</td>\n",
       "    </tr>\n",
       "  </tbody>\n",
       "</table>\n",
       "<p>20800 rows × 5 columns</p>\n",
       "</div>"
      ],
      "text/plain": [
       "          id                                              title  \\\n",
       "0          0  House Dem Aide: We Didn’t Even See Comey’s Let...   \n",
       "1          1  FLYNN: Hillary Clinton, Big Woman on Campus - ...   \n",
       "2          2                  Why the Truth Might Get You Fired   \n",
       "3          3  15 Civilians Killed In Single US Airstrike Hav...   \n",
       "4          4  Iranian woman jailed for fictional unpublished...   \n",
       "...      ...                                                ...   \n",
       "20795  20795  Rapper T.I.: Trump a ’Poster Child For White S...   \n",
       "20796  20796  N.F.L. Playoffs: Schedule, Matchups and Odds -...   \n",
       "20797  20797  Macy’s Is Said to Receive Takeover Approach by...   \n",
       "20798  20798  NATO, Russia To Hold Parallel Exercises In Bal...   \n",
       "20799  20799                          What Keeps the F-35 Alive   \n",
       "\n",
       "                                          author  \\\n",
       "0                                  Darrell Lucus   \n",
       "1                                Daniel J. Flynn   \n",
       "2                             Consortiumnews.com   \n",
       "3                                Jessica Purkiss   \n",
       "4                                 Howard Portnoy   \n",
       "...                                          ...   \n",
       "20795                              Jerome Hudson   \n",
       "20796                           Benjamin Hoffman   \n",
       "20797  Michael J. de la Merced and Rachel Abrams   \n",
       "20798                                Alex Ansary   \n",
       "20799                              David Swanson   \n",
       "\n",
       "                                                    text  label  \n",
       "0      House Dem Aide: We Didn’t Even See Comey’s Let...      1  \n",
       "1      Ever get the feeling your life circles the rou...      0  \n",
       "2      Why the Truth Might Get You Fired October 29, ...      1  \n",
       "3      Videos 15 Civilians Killed In Single US Airstr...      1  \n",
       "4      Print \\nAn Iranian woman has been sentenced to...      1  \n",
       "...                                                  ...    ...  \n",
       "20795  Rapper T. I. unloaded on black celebrities who...      0  \n",
       "20796  When the Green Bay Packers lost to the Washing...      0  \n",
       "20797  The Macy’s of today grew from the union of sev...      0  \n",
       "20798  NATO, Russia To Hold Parallel Exercises In Bal...      1  \n",
       "20799    David Swanson is an author, activist, journa...      1  \n",
       "\n",
       "[20800 rows x 5 columns]"
      ]
     },
     "execution_count": 2,
     "metadata": {},
     "output_type": "execute_result"
    }
   ],
   "source": [
    "# importing train and test data using pd.read_csv\n",
    "train = pd.read_csv('FakeNews_train.csv')\n",
    "test = pd.read_csv('FakeNews_test.csv')\n",
    "train"
   ]
  },
  {
   "cell_type": "code",
   "execution_count": 4,
   "id": "d1fad333",
   "metadata": {},
   "outputs": [
    {
     "data": {
      "text/plain": [
       "((20800, 5), (5200, 4))"
      ]
     },
     "execution_count": 4,
     "metadata": {},
     "output_type": "execute_result"
    }
   ],
   "source": [
    "# shapes of train and test datasets\n",
    "train.shape, test.shape"
   ]
  },
  {
   "cell_type": "code",
   "execution_count": 5,
   "id": "955bb42f",
   "metadata": {},
   "outputs": [
    {
     "data": {
      "text/plain": [
       "id           0\n",
       "title      558\n",
       "author    1957\n",
       "text        39\n",
       "label        0\n",
       "dtype: int64"
      ]
     },
     "execution_count": 5,
     "metadata": {},
     "output_type": "execute_result"
    }
   ],
   "source": [
    "# checking the null values in train dataset\n",
    "train.isnull().sum()"
   ]
  },
  {
   "cell_type": "code",
   "execution_count": 6,
   "id": "fec09c19",
   "metadata": {},
   "outputs": [
    {
     "data": {
      "text/plain": [
       "id          0\n",
       "title     122\n",
       "author    503\n",
       "text        7\n",
       "dtype: int64"
      ]
     },
     "execution_count": 6,
     "metadata": {},
     "output_type": "execute_result"
    }
   ],
   "source": [
    "# checking the null values in test dataset\n",
    "test.isnull().sum()"
   ]
  },
  {
   "cell_type": "code",
   "execution_count": 7,
   "id": "cb58f8ca",
   "metadata": {},
   "outputs": [
    {
     "data": {
      "text/plain": [
       "(id        0\n",
       " title     0\n",
       " author    0\n",
       " text      0\n",
       " label     0\n",
       " dtype: int64,\n",
       " id        0\n",
       " title     0\n",
       " author    0\n",
       " text      0\n",
       " dtype: int64)"
      ]
     },
     "execution_count": 7,
     "metadata": {},
     "output_type": "execute_result"
    }
   ],
   "source": [
    "# Handling null values by filling with empty spaces\n",
    "train = train.fillna(\" \")\n",
    "test = test.fillna(\" \")\n",
    "train.isnull().sum(), test.isnull().sum()"
   ]
  },
  {
   "cell_type": "code",
   "execution_count": 11,
   "id": "87e28172",
   "metadata": {},
   "outputs": [],
   "source": [
    "# Creating a variable \"merged\" by merging columns \"title\" and \"author\"\n",
    "train[\"merged\"] = train[\"title\"]+\" \"+train[\"author\"]\n",
    "test[\"merged\"]  = test[\"title\"]+\" \"+test[\"author\"]"
   ]
  },
  {
   "cell_type": "code",
   "execution_count": 12,
   "id": "93dc0033",
   "metadata": {},
   "outputs": [
    {
     "data": {
      "text/plain": [
       "((20800, 5), (20800,))"
      ]
     },
     "execution_count": 12,
     "metadata": {},
     "output_type": "execute_result"
    }
   ],
   "source": [
    "# Selecting the feature and target columns\n",
    "X = train.drop(['label'],axis=1) # feature column selection\n",
    "y = train['label'] # target column\n",
    "X.shape, y.shape"
   ]
  },
  {
   "cell_type": "code",
   "execution_count": 13,
   "id": "b673267d",
   "metadata": {},
   "outputs": [],
   "source": [
    "# Copying the Columns for pre-processing\n",
    "messages_train = X.copy()\n",
    "messages_train.reset_index(inplace=True)\n",
    "messages_test = test.copy()\n",
    "messages_test.reset_index(inplace=True)"
   ]
  },
  {
   "cell_type": "markdown",
   "id": "d28fd2a2",
   "metadata": {},
   "source": [
    "## Step 2. Data Preprocessing"
   ]
  },
  {
   "cell_type": "markdown",
   "id": "e39528d8",
   "metadata": {},
   "source": [
    "In Data Preprocessing, we will be following steps written below :\n",
    "1. All the sequences expect English characters will be removed from the string.\n",
    "2. Converting all the string to lower case to aviod false predictions (Strings are sensitive to Upper and Lower case characters)\n",
    "3. Tokenizing all the sentences into words\n",
    "4. Stemming for faster preprocessing\n",
    "5. Words will be joined together and stored in \"trainn_corpus\" and \"test_corpus\""
   ]
  },
  {
   "cell_type": "code",
   "execution_count": 15,
   "id": "31816a30",
   "metadata": {},
   "outputs": [
    {
     "data": {
      "text/plain": [
       "'flynn hillari clinton big woman campu breitbart daniel j flynn'"
      ]
     },
     "execution_count": 15,
     "metadata": {},
     "output_type": "execute_result"
    }
   ],
   "source": [
    "# Performing data preprocessing on column 'title'\n",
    "from nltk.stem.porter import PorterStemmer\n",
    "ps = PorterStemmer()\n",
    "def perform_preprocess(data):\n",
    "    \n",
    "    corpus = []\n",
    "    for i in range(0,len(data)):\n",
    "        review = re.sub('[^a-zA-Z]',' ',data['merged'][i])\n",
    "        review = review.lower()\n",
    "        review = review.split()\n",
    "        review = [ps.stem(word) for word in review if word not in stopwords.words('english')]\n",
    "        review = ' '.join(review)\n",
    "        corpus.append(review)\n",
    "    return corpus\n",
    "    \n",
    "# applying the perform_processes function in train and test datasets    \n",
    "train_corpus = perform_preprocess(messages_train)\n",
    "test_corpus  = perform_preprocess(messages_test)\n",
    "train_corpus[1]"
   ]
  },
  {
   "cell_type": "code",
   "execution_count": 16,
   "id": "fd09ea1f",
   "metadata": {},
   "outputs": [
    {
     "data": {
      "text/plain": [
       "'russian warship readi strike terrorist near aleppo'"
      ]
     },
     "execution_count": 16,
     "metadata": {},
     "output_type": "execute_result"
    }
   ],
   "source": [
    "test_corpus[1]"
   ]
  },
  {
   "cell_type": "code",
   "execution_count": 18,
   "id": "3d0ab544",
   "metadata": {},
   "outputs": [
    {
     "data": {
      "text/plain": [
       "[2007, 4763, 4981, 2752, 1831, 78, 2648, 2509, 3723, 2007]"
      ]
     },
     "execution_count": 18,
     "metadata": {},
     "output_type": "execute_result"
    }
   ],
   "source": [
    "# converting to one_hot represntation\n",
    "vocab_size = 5000\n",
    "one_hot_train = [one_hot(words, vocab_size) for words in train_corpus]\n",
    "one_hot_test = [one_hot(words, vocab_size) for words in test_corpus]\n",
    "one_hot_train[1]"
   ]
  },
  {
   "cell_type": "code",
   "execution_count": 19,
   "id": "bee090ca",
   "metadata": {},
   "outputs": [
    {
     "data": {
      "text/plain": [
       "[2, 244, 2393, 3167, 2639, 1282, 4157]"
      ]
     },
     "execution_count": 19,
     "metadata": {},
     "output_type": "execute_result"
    }
   ],
   "source": [
    "one_hot_test[1]"
   ]
  },
  {
   "cell_type": "markdown",
   "id": "2ad745b0",
   "metadata": {},
   "source": [
    "#### *Below Code creates an embedding layer which applies \"pre\" padding to one_hot encoded features with sentence of length = 20.*\n",
    "#### *Padding is applied so that the lenght of every sequence in dataset remains same.*"
   ]
  },
  {
   "cell_type": "markdown",
   "id": "45a53d85",
   "metadata": {},
   "source": [
    "### Embedding Representation"
   ]
  },
  {
   "cell_type": "code",
   "execution_count": 22,
   "id": "bb62ec3c",
   "metadata": {},
   "outputs": [
    {
     "data": {
      "text/plain": [
       "array([   0,    0,    0,    0,    0,    0,    0,    0,    0,    0, 2007,\n",
       "       4763, 4981, 2752, 1831,   78, 2648, 2509, 3723, 2007])"
      ]
     },
     "execution_count": 22,
     "metadata": {},
     "output_type": "execute_result"
    }
   ],
   "source": [
    "sent_length = 20\n",
    "embedded_docs_train = pad_sequences(one_hot_train,padding=\"pre\",maxlen = sent_length)\n",
    "embedded_docs_test = pad_sequences(one_hot_test,padding=\"pre\",maxlen = sent_length)\n",
    "embedded_docs_train[1]"
   ]
  },
  {
   "cell_type": "code",
   "execution_count": 23,
   "id": "74c5ba6a",
   "metadata": {},
   "outputs": [
    {
     "data": {
      "text/plain": [
       "array([   0,    0,    0,    0,    0,    0,    0,    0,    0,    0,    0,\n",
       "          0,    0,    2,  244, 2393, 3167, 2639, 1282, 4157])"
      ]
     },
     "execution_count": 23,
     "metadata": {},
     "output_type": "execute_result"
    }
   ],
   "source": [
    "embedded_docs_test[1]"
   ]
  },
  {
   "cell_type": "code",
   "execution_count": 24,
   "id": "02d2ecd2",
   "metadata": {},
   "outputs": [],
   "source": [
    "# converting Embedding representation\n",
    "X_train_final = np.array(embedded_docs_train)\n",
    "X_test_final = np.array(embedded_docs_test)\n",
    "y_final = np.array(y)"
   ]
  },
  {
   "cell_type": "code",
   "execution_count": 25,
   "id": "7a65413b",
   "metadata": {},
   "outputs": [
    {
     "data": {
      "text/plain": [
       "((20800, 20), (5200, 20), (20800,))"
      ]
     },
     "execution_count": 25,
     "metadata": {},
     "output_type": "execute_result"
    }
   ],
   "source": [
    "X_train_final.shape, X_test_final.shape, y_final.shape"
   ]
  },
  {
   "cell_type": "markdown",
   "id": "ff7e13b5",
   "metadata": {},
   "source": [
    "### Dividing the data into training set, testing set and validation set (80/10/10) using train_test_split"
   ]
  },
  {
   "cell_type": "code",
   "execution_count": 30,
   "id": "fb3ecfe0",
   "metadata": {},
   "outputs": [],
   "source": [
    "from sklearn.model_selection import train_test_split\n",
    "x_train, x_test, y_train, y_test = train_test_split(X_train_final, y_final, test_size=0.1, random_state=42, stratify=y_final)"
   ]
  },
  {
   "cell_type": "code",
   "execution_count": 31,
   "id": "eb4aaac6",
   "metadata": {},
   "outputs": [],
   "source": [
    "X_train, x_valid, Y_train, y_valid = train_test_split(x_train, y_train, test_size=0.1, random_state=42)"
   ]
  },
  {
   "cell_type": "markdown",
   "id": "38200680",
   "metadata": {},
   "source": [
    "## Step 3. Model Selection and Evaluation"
   ]
  },
  {
   "cell_type": "markdown",
   "id": "d5573cce",
   "metadata": {},
   "source": [
    "### 3.1 Logistic Regression"
   ]
  },
  {
   "cell_type": "code",
   "execution_count": 43,
   "id": "57e71e91",
   "metadata": {},
   "outputs": [
    {
     "name": "stdout",
     "output_type": "stream",
     "text": [
      "              precision    recall  f1-score   support\n",
      "\n",
      "           0       0.72      0.77      0.74      1039\n",
      "           1       0.75      0.70      0.72      1041\n",
      "\n",
      "    accuracy                           0.73      2080\n",
      "   macro avg       0.73      0.73      0.73      2080\n",
      "weighted avg       0.73      0.73      0.73      2080\n",
      "\n"
     ]
    }
   ],
   "source": [
    "model_logistic = LogisticRegression(max_iter=900)\n",
    "model_logistic.fit(X_train,Y_train)\n",
    "pred_logistic = model_logistic.predict(x_test)\n",
    "cr_logistic = classification_report(y_test,pred_logistic)\n",
    "print(cr_logistic)"
   ]
  },
  {
   "cell_type": "markdown",
   "id": "1904f501",
   "metadata": {},
   "source": [
    "### 3.2 Naive Bayes"
   ]
  },
  {
   "cell_type": "code",
   "execution_count": 44,
   "id": "9e18dd95",
   "metadata": {},
   "outputs": [
    {
     "name": "stdout",
     "output_type": "stream",
     "text": [
      "              precision    recall  f1-score   support\n",
      "\n",
      "           0       0.70      0.60      0.65      1039\n",
      "           1       0.65      0.75      0.69      1041\n",
      "\n",
      "    accuracy                           0.67      2080\n",
      "   macro avg       0.68      0.67      0.67      2080\n",
      "weighted avg       0.68      0.67      0.67      2080\n",
      "\n"
     ]
    }
   ],
   "source": [
    "model_nb = MultinomialNB()\n",
    "model_nb.fit(X_train,Y_train)\n",
    "pred_nb = model_nb.predict(x_test)\n",
    "cr_nb = classification_report(y_test,pred_nb)\n",
    "print(cr_nb)"
   ]
  },
  {
   "cell_type": "markdown",
   "id": "d275e760",
   "metadata": {},
   "source": [
    "### 3.3 Decision Tree"
   ]
  },
  {
   "cell_type": "code",
   "execution_count": 45,
   "id": "31d04b09",
   "metadata": {},
   "outputs": [
    {
     "name": "stdout",
     "output_type": "stream",
     "text": [
      "              precision    recall  f1-score   support\n",
      "\n",
      "           0       0.89      0.92      0.90      1039\n",
      "           1       0.92      0.89      0.90      1041\n",
      "\n",
      "    accuracy                           0.90      2080\n",
      "   macro avg       0.90      0.90      0.90      2080\n",
      "weighted avg       0.90      0.90      0.90      2080\n",
      "\n"
     ]
    }
   ],
   "source": [
    "model_dtree = DecisionTreeClassifier()\n",
    "model_dtree.fit(X_train,Y_train)\n",
    "pred_dtree = model_dtree.predict(x_test)\n",
    "cr_dtree = classification_report(y_test,pred_dtree)\n",
    "print(cr_dtree)"
   ]
  },
  {
   "cell_type": "markdown",
   "id": "82ee2447",
   "metadata": {},
   "source": [
    "### 3.4 Random Forests"
   ]
  },
  {
   "cell_type": "code",
   "execution_count": 46,
   "id": "682dcd59",
   "metadata": {},
   "outputs": [
    {
     "name": "stdout",
     "output_type": "stream",
     "text": [
      "              precision    recall  f1-score   support\n",
      "\n",
      "           0       0.96      0.86      0.91      1039\n",
      "           1       0.88      0.97      0.92      1041\n",
      "\n",
      "    accuracy                           0.91      2080\n",
      "   macro avg       0.92      0.91      0.91      2080\n",
      "weighted avg       0.92      0.91      0.91      2080\n",
      "\n"
     ]
    }
   ],
   "source": [
    "model_rf = RandomForestClassifier()\n",
    "model_rf.fit(X_train,Y_train)\n",
    "pred_rf = model_rf.predict(x_test)\n",
    "cr_rf = classification_report(y_test,pred_rf)\n",
    "print(cr_rf)"
   ]
  },
  {
   "cell_type": "markdown",
   "id": "e38e251b",
   "metadata": {},
   "source": [
    "### 3.5 XGBoost"
   ]
  },
  {
   "cell_type": "code",
   "execution_count": 47,
   "id": "811bd040",
   "metadata": {},
   "outputs": [
    {
     "name": "stdout",
     "output_type": "stream",
     "text": [
      "              precision    recall  f1-score   support\n",
      "\n",
      "           0       0.99      0.98      0.98      1039\n",
      "           1       0.98      0.99      0.98      1041\n",
      "\n",
      "    accuracy                           0.98      2080\n",
      "   macro avg       0.98      0.98      0.98      2080\n",
      "weighted avg       0.98      0.98      0.98      2080\n",
      "\n"
     ]
    }
   ],
   "source": [
    "model_xgb = XGBClassifier()\n",
    "model_xgb.fit(X_train,Y_train)\n",
    "pred_xgb = model_xgb.predict(x_test)\n",
    "cr_xgb = classification_report(y_test,pred_xgb)\n",
    "print(cr_xgb)"
   ]
  },
  {
   "cell_type": "markdown",
   "id": "c072465c",
   "metadata": {},
   "source": [
    "### 3.6 CatBoost"
   ]
  },
  {
   "cell_type": "code",
   "execution_count": 49,
   "id": "3c963e9e",
   "metadata": {},
   "outputs": [
    {
     "name": "stdout",
     "output_type": "stream",
     "text": [
      "Learning rate set to 0.150531\n",
      "0:\tlearn: 0.5575632\ttotal: 22.7ms\tremaining: 4.52s\n",
      "1:\tlearn: 0.5069522\ttotal: 39.1ms\tremaining: 3.87s\n",
      "2:\tlearn: 0.4647746\ttotal: 56.5ms\tremaining: 3.71s\n",
      "3:\tlearn: 0.4264419\ttotal: 72.4ms\tremaining: 3.55s\n",
      "4:\tlearn: 0.3854707\ttotal: 85.7ms\tremaining: 3.34s\n",
      "5:\tlearn: 0.3689098\ttotal: 98ms\tremaining: 3.17s\n",
      "6:\tlearn: 0.3519079\ttotal: 109ms\tremaining: 2.99s\n",
      "7:\tlearn: 0.3428304\ttotal: 119ms\tremaining: 2.85s\n",
      "8:\tlearn: 0.3369153\ttotal: 127ms\tremaining: 2.69s\n",
      "9:\tlearn: 0.3277433\ttotal: 136ms\tremaining: 2.58s\n",
      "10:\tlearn: 0.3230840\ttotal: 144ms\tremaining: 2.48s\n",
      "11:\tlearn: 0.3172048\ttotal: 152ms\tremaining: 2.39s\n",
      "12:\tlearn: 0.3115770\ttotal: 161ms\tremaining: 2.31s\n",
      "13:\tlearn: 0.3053414\ttotal: 169ms\tremaining: 2.25s\n",
      "14:\tlearn: 0.2973727\ttotal: 178ms\tremaining: 2.2s\n",
      "15:\tlearn: 0.2909536\ttotal: 225ms\tremaining: 2.58s\n",
      "16:\tlearn: 0.2871469\ttotal: 233ms\tremaining: 2.51s\n",
      "17:\tlearn: 0.2831973\ttotal: 242ms\tremaining: 2.45s\n",
      "18:\tlearn: 0.2801086\ttotal: 251ms\tremaining: 2.4s\n",
      "19:\tlearn: 0.2782012\ttotal: 261ms\tremaining: 2.35s\n",
      "20:\tlearn: 0.2761661\ttotal: 272ms\tremaining: 2.32s\n",
      "21:\tlearn: 0.2726738\ttotal: 282ms\tremaining: 2.28s\n",
      "22:\tlearn: 0.2669489\ttotal: 291ms\tremaining: 2.24s\n",
      "23:\tlearn: 0.2647810\ttotal: 302ms\tremaining: 2.21s\n",
      "24:\tlearn: 0.2591816\ttotal: 311ms\tremaining: 2.18s\n",
      "25:\tlearn: 0.2556371\ttotal: 322ms\tremaining: 2.15s\n",
      "26:\tlearn: 0.2486494\ttotal: 331ms\tremaining: 2.12s\n",
      "27:\tlearn: 0.2472079\ttotal: 341ms\tremaining: 2.09s\n",
      "28:\tlearn: 0.2460415\ttotal: 351ms\tremaining: 2.07s\n",
      "29:\tlearn: 0.2426932\ttotal: 360ms\tremaining: 2.04s\n",
      "30:\tlearn: 0.2393844\ttotal: 371ms\tremaining: 2.02s\n",
      "31:\tlearn: 0.2370418\ttotal: 381ms\tremaining: 2s\n",
      "32:\tlearn: 0.2354277\ttotal: 390ms\tremaining: 1.97s\n",
      "33:\tlearn: 0.2341114\ttotal: 402ms\tremaining: 1.96s\n",
      "34:\tlearn: 0.2305477\ttotal: 413ms\tremaining: 1.95s\n",
      "35:\tlearn: 0.2289590\ttotal: 424ms\tremaining: 1.93s\n",
      "36:\tlearn: 0.2271567\ttotal: 438ms\tremaining: 1.93s\n",
      "37:\tlearn: 0.2253289\ttotal: 448ms\tremaining: 1.91s\n",
      "38:\tlearn: 0.2235319\ttotal: 457ms\tremaining: 1.89s\n",
      "39:\tlearn: 0.2217887\ttotal: 469ms\tremaining: 1.88s\n",
      "40:\tlearn: 0.2190658\ttotal: 480ms\tremaining: 1.86s\n",
      "41:\tlearn: 0.2174048\ttotal: 490ms\tremaining: 1.84s\n",
      "42:\tlearn: 0.2146703\ttotal: 501ms\tremaining: 1.83s\n",
      "43:\tlearn: 0.2128518\ttotal: 511ms\tremaining: 1.81s\n",
      "44:\tlearn: 0.2118358\ttotal: 521ms\tremaining: 1.79s\n",
      "45:\tlearn: 0.2110288\ttotal: 532ms\tremaining: 1.78s\n",
      "46:\tlearn: 0.2105216\ttotal: 542ms\tremaining: 1.76s\n",
      "47:\tlearn: 0.2096501\ttotal: 555ms\tremaining: 1.76s\n",
      "48:\tlearn: 0.2063720\ttotal: 565ms\tremaining: 1.74s\n",
      "49:\tlearn: 0.2036806\ttotal: 576ms\tremaining: 1.73s\n",
      "50:\tlearn: 0.2028716\ttotal: 585ms\tremaining: 1.71s\n",
      "51:\tlearn: 0.1995382\ttotal: 595ms\tremaining: 1.69s\n",
      "52:\tlearn: 0.1976314\ttotal: 604ms\tremaining: 1.68s\n",
      "53:\tlearn: 0.1965882\ttotal: 616ms\tremaining: 1.67s\n",
      "54:\tlearn: 0.1944399\ttotal: 628ms\tremaining: 1.66s\n",
      "55:\tlearn: 0.1924924\ttotal: 641ms\tremaining: 1.65s\n",
      "56:\tlearn: 0.1916602\ttotal: 650ms\tremaining: 1.63s\n",
      "57:\tlearn: 0.1904771\ttotal: 659ms\tremaining: 1.61s\n",
      "58:\tlearn: 0.1885042\ttotal: 668ms\tremaining: 1.59s\n",
      "59:\tlearn: 0.1867781\ttotal: 676ms\tremaining: 1.58s\n",
      "60:\tlearn: 0.1854206\ttotal: 685ms\tremaining: 1.56s\n",
      "61:\tlearn: 0.1839682\ttotal: 694ms\tremaining: 1.54s\n",
      "62:\tlearn: 0.1830243\ttotal: 702ms\tremaining: 1.53s\n",
      "63:\tlearn: 0.1795020\ttotal: 710ms\tremaining: 1.51s\n",
      "64:\tlearn: 0.1782961\ttotal: 719ms\tremaining: 1.49s\n",
      "65:\tlearn: 0.1766819\ttotal: 727ms\tremaining: 1.48s\n",
      "66:\tlearn: 0.1750833\ttotal: 735ms\tremaining: 1.46s\n",
      "67:\tlearn: 0.1734401\ttotal: 744ms\tremaining: 1.44s\n",
      "68:\tlearn: 0.1720008\ttotal: 753ms\tremaining: 1.43s\n",
      "69:\tlearn: 0.1690407\ttotal: 761ms\tremaining: 1.41s\n",
      "70:\tlearn: 0.1675248\ttotal: 770ms\tremaining: 1.4s\n",
      "71:\tlearn: 0.1651482\ttotal: 779ms\tremaining: 1.39s\n",
      "72:\tlearn: 0.1635619\ttotal: 790ms\tremaining: 1.37s\n",
      "73:\tlearn: 0.1630208\ttotal: 798ms\tremaining: 1.36s\n",
      "74:\tlearn: 0.1618186\ttotal: 807ms\tremaining: 1.34s\n",
      "75:\tlearn: 0.1608910\ttotal: 815ms\tremaining: 1.33s\n",
      "76:\tlearn: 0.1589234\ttotal: 829ms\tremaining: 1.32s\n",
      "77:\tlearn: 0.1572019\ttotal: 841ms\tremaining: 1.31s\n",
      "78:\tlearn: 0.1556580\ttotal: 850ms\tremaining: 1.3s\n",
      "79:\tlearn: 0.1537899\ttotal: 858ms\tremaining: 1.29s\n",
      "80:\tlearn: 0.1519825\ttotal: 867ms\tremaining: 1.27s\n",
      "81:\tlearn: 0.1508963\ttotal: 876ms\tremaining: 1.26s\n",
      "82:\tlearn: 0.1489732\ttotal: 896ms\tremaining: 1.26s\n",
      "83:\tlearn: 0.1484019\ttotal: 906ms\tremaining: 1.25s\n",
      "84:\tlearn: 0.1478260\ttotal: 915ms\tremaining: 1.24s\n",
      "85:\tlearn: 0.1462206\ttotal: 924ms\tremaining: 1.23s\n",
      "86:\tlearn: 0.1440093\ttotal: 933ms\tremaining: 1.21s\n",
      "87:\tlearn: 0.1431426\ttotal: 945ms\tremaining: 1.2s\n",
      "88:\tlearn: 0.1399959\ttotal: 960ms\tremaining: 1.2s\n",
      "89:\tlearn: 0.1371550\ttotal: 974ms\tremaining: 1.19s\n",
      "90:\tlearn: 0.1356020\ttotal: 989ms\tremaining: 1.18s\n",
      "91:\tlearn: 0.1343457\ttotal: 1s\tremaining: 1.18s\n",
      "92:\tlearn: 0.1324784\ttotal: 1.01s\tremaining: 1.17s\n",
      "93:\tlearn: 0.1308404\ttotal: 1.03s\tremaining: 1.16s\n",
      "94:\tlearn: 0.1298100\ttotal: 1.04s\tremaining: 1.15s\n",
      "95:\tlearn: 0.1295267\ttotal: 1.06s\tremaining: 1.15s\n",
      "96:\tlearn: 0.1282236\ttotal: 1.07s\tremaining: 1.14s\n",
      "97:\tlearn: 0.1272912\ttotal: 1.09s\tremaining: 1.13s\n",
      "98:\tlearn: 0.1259503\ttotal: 1.1s\tremaining: 1.12s\n",
      "99:\tlearn: 0.1257642\ttotal: 1.11s\tremaining: 1.11s\n",
      "100:\tlearn: 0.1252922\ttotal: 1.12s\tremaining: 1.1s\n",
      "101:\tlearn: 0.1238324\ttotal: 1.14s\tremaining: 1.09s\n",
      "102:\tlearn: 0.1234821\ttotal: 1.15s\tremaining: 1.08s\n",
      "103:\tlearn: 0.1222042\ttotal: 1.16s\tremaining: 1.07s\n",
      "104:\tlearn: 0.1213144\ttotal: 1.18s\tremaining: 1.06s\n",
      "105:\tlearn: 0.1201142\ttotal: 1.19s\tremaining: 1.06s\n",
      "106:\tlearn: 0.1195742\ttotal: 1.2s\tremaining: 1.05s\n",
      "107:\tlearn: 0.1185596\ttotal: 1.21s\tremaining: 1.03s\n",
      "108:\tlearn: 0.1180921\ttotal: 1.23s\tremaining: 1.03s\n",
      "109:\tlearn: 0.1170647\ttotal: 1.25s\tremaining: 1.02s\n",
      "110:\tlearn: 0.1162887\ttotal: 1.26s\tremaining: 1.01s\n",
      "111:\tlearn: 0.1146719\ttotal: 1.27s\tremaining: 999ms\n",
      "112:\tlearn: 0.1135244\ttotal: 1.28s\tremaining: 987ms\n",
      "113:\tlearn: 0.1130606\ttotal: 1.29s\tremaining: 975ms\n",
      "114:\tlearn: 0.1123114\ttotal: 1.3s\tremaining: 962ms\n",
      "115:\tlearn: 0.1114948\ttotal: 1.31s\tremaining: 950ms\n",
      "116:\tlearn: 0.1109212\ttotal: 1.32s\tremaining: 939ms\n",
      "117:\tlearn: 0.1092179\ttotal: 1.33s\tremaining: 926ms\n",
      "118:\tlearn: 0.1083281\ttotal: 1.34s\tremaining: 914ms\n",
      "119:\tlearn: 0.1072980\ttotal: 1.35s\tremaining: 901ms\n",
      "120:\tlearn: 0.1060248\ttotal: 1.36s\tremaining: 888ms\n",
      "121:\tlearn: 0.1057672\ttotal: 1.37s\tremaining: 875ms\n",
      "122:\tlearn: 0.1045575\ttotal: 1.38s\tremaining: 862ms\n",
      "123:\tlearn: 0.1041044\ttotal: 1.39s\tremaining: 850ms\n",
      "124:\tlearn: 0.1031155\ttotal: 1.4s\tremaining: 837ms\n",
      "125:\tlearn: 0.1028189\ttotal: 1.4s\tremaining: 825ms\n",
      "126:\tlearn: 0.1023894\ttotal: 1.41s\tremaining: 812ms\n",
      "127:\tlearn: 0.1021428\ttotal: 1.42s\tremaining: 800ms\n",
      "128:\tlearn: 0.1018129\ttotal: 1.43s\tremaining: 790ms\n",
      "129:\tlearn: 0.1011254\ttotal: 1.45s\tremaining: 779ms\n",
      "130:\tlearn: 0.1005577\ttotal: 1.46s\tremaining: 767ms\n",
      "131:\tlearn: 0.1003307\ttotal: 1.46s\tremaining: 754ms\n",
      "132:\tlearn: 0.0988100\ttotal: 1.47s\tremaining: 742ms\n",
      "133:\tlearn: 0.0972466\ttotal: 1.48s\tremaining: 730ms\n",
      "134:\tlearn: 0.0965389\ttotal: 1.49s\tremaining: 718ms\n",
      "135:\tlearn: 0.0960127\ttotal: 1.5s\tremaining: 706ms\n",
      "136:\tlearn: 0.0952405\ttotal: 1.51s\tremaining: 694ms\n",
      "137:\tlearn: 0.0944836\ttotal: 1.52s\tremaining: 682ms\n",
      "138:\tlearn: 0.0940262\ttotal: 1.53s\tremaining: 670ms\n",
      "139:\tlearn: 0.0932926\ttotal: 1.53s\tremaining: 658ms\n",
      "140:\tlearn: 0.0927834\ttotal: 1.54s\tremaining: 646ms\n",
      "141:\tlearn: 0.0921405\ttotal: 1.55s\tremaining: 634ms\n",
      "142:\tlearn: 0.0913850\ttotal: 1.56s\tremaining: 622ms\n",
      "143:\tlearn: 0.0909962\ttotal: 1.57s\tremaining: 610ms\n",
      "144:\tlearn: 0.0907034\ttotal: 1.58s\tremaining: 598ms\n",
      "145:\tlearn: 0.0899391\ttotal: 1.59s\tremaining: 587ms\n",
      "146:\tlearn: 0.0896593\ttotal: 1.59s\tremaining: 575ms\n",
      "147:\tlearn: 0.0890791\ttotal: 1.62s\tremaining: 568ms\n",
      "148:\tlearn: 0.0883299\ttotal: 1.64s\tremaining: 561ms\n",
      "149:\tlearn: 0.0873514\ttotal: 1.65s\tremaining: 551ms\n",
      "150:\tlearn: 0.0866594\ttotal: 1.67s\tremaining: 541ms\n",
      "151:\tlearn: 0.0864264\ttotal: 1.68s\tremaining: 530ms\n",
      "152:\tlearn: 0.0858790\ttotal: 1.69s\tremaining: 520ms\n",
      "153:\tlearn: 0.0852039\ttotal: 1.71s\tremaining: 509ms\n",
      "154:\tlearn: 0.0849403\ttotal: 1.72s\tremaining: 499ms\n",
      "155:\tlearn: 0.0846033\ttotal: 1.74s\tremaining: 490ms\n",
      "156:\tlearn: 0.0842317\ttotal: 1.75s\tremaining: 480ms\n",
      "157:\tlearn: 0.0840673\ttotal: 1.77s\tremaining: 470ms\n",
      "158:\tlearn: 0.0836194\ttotal: 1.79s\tremaining: 463ms\n",
      "159:\tlearn: 0.0825180\ttotal: 1.81s\tremaining: 452ms\n",
      "160:\tlearn: 0.0821345\ttotal: 1.84s\tremaining: 445ms\n",
      "161:\tlearn: 0.0814667\ttotal: 1.85s\tremaining: 435ms\n",
      "162:\tlearn: 0.0812725\ttotal: 1.87s\tremaining: 424ms\n",
      "163:\tlearn: 0.0809235\ttotal: 1.88s\tremaining: 413ms\n",
      "164:\tlearn: 0.0806737\ttotal: 1.89s\tremaining: 401ms\n",
      "165:\tlearn: 0.0798960\ttotal: 1.9s\tremaining: 390ms\n",
      "166:\tlearn: 0.0795690\ttotal: 1.91s\tremaining: 378ms\n",
      "167:\tlearn: 0.0787589\ttotal: 1.93s\tremaining: 367ms\n",
      "168:\tlearn: 0.0782052\ttotal: 1.94s\tremaining: 355ms\n",
      "169:\tlearn: 0.0780122\ttotal: 1.95s\tremaining: 344ms\n",
      "170:\tlearn: 0.0772026\ttotal: 1.96s\tremaining: 332ms\n",
      "171:\tlearn: 0.0765514\ttotal: 1.97s\tremaining: 321ms\n",
      "172:\tlearn: 0.0763659\ttotal: 1.99s\tremaining: 311ms\n",
      "173:\tlearn: 0.0758636\ttotal: 2s\tremaining: 299ms\n",
      "174:\tlearn: 0.0755653\ttotal: 2.01s\tremaining: 288ms\n",
      "175:\tlearn: 0.0750730\ttotal: 2.02s\tremaining: 276ms\n",
      "176:\tlearn: 0.0748385\ttotal: 2.04s\tremaining: 265ms\n",
      "177:\tlearn: 0.0742754\ttotal: 2.06s\tremaining: 254ms\n",
      "178:\tlearn: 0.0733871\ttotal: 2.07s\tremaining: 243ms\n",
      "179:\tlearn: 0.0726210\ttotal: 2.08s\tremaining: 231ms\n",
      "180:\tlearn: 0.0721200\ttotal: 2.09s\tremaining: 220ms\n",
      "181:\tlearn: 0.0719685\ttotal: 2.11s\tremaining: 208ms\n",
      "182:\tlearn: 0.0717760\ttotal: 2.12s\tremaining: 197ms\n",
      "183:\tlearn: 0.0712250\ttotal: 2.14s\tremaining: 186ms\n",
      "184:\tlearn: 0.0708790\ttotal: 2.17s\tremaining: 176ms\n",
      "185:\tlearn: 0.0703737\ttotal: 2.19s\tremaining: 165ms\n",
      "186:\tlearn: 0.0698442\ttotal: 2.21s\tremaining: 154ms\n",
      "187:\tlearn: 0.0694989\ttotal: 2.23s\tremaining: 142ms\n",
      "188:\tlearn: 0.0690816\ttotal: 2.25s\tremaining: 131ms\n",
      "189:\tlearn: 0.0685233\ttotal: 2.27s\tremaining: 120ms\n",
      "190:\tlearn: 0.0684173\ttotal: 2.29s\tremaining: 108ms\n",
      "191:\tlearn: 0.0679547\ttotal: 2.31s\tremaining: 96.2ms\n",
      "192:\tlearn: 0.0674554\ttotal: 2.33s\tremaining: 84.4ms\n",
      "193:\tlearn: 0.0672480\ttotal: 2.34s\tremaining: 72.5ms\n",
      "194:\tlearn: 0.0669269\ttotal: 2.36s\tremaining: 60.5ms\n",
      "195:\tlearn: 0.0666802\ttotal: 2.37s\tremaining: 48.4ms\n",
      "196:\tlearn: 0.0661526\ttotal: 2.39s\tremaining: 36.4ms\n",
      "197:\tlearn: 0.0659034\ttotal: 2.41s\tremaining: 24.3ms\n",
      "198:\tlearn: 0.0656001\ttotal: 2.42s\tremaining: 12.2ms\n",
      "199:\tlearn: 0.0653840\ttotal: 2.44s\tremaining: 0us\n"
     ]
    }
   ],
   "source": [
    "model_cb = CatBoostClassifier(iterations=200)\n",
    "model_cb.fit(X_train,Y_train)\n",
    "pred_cb = model_cb.predict(x_test)"
   ]
  },
  {
   "cell_type": "code",
   "execution_count": 50,
   "id": "f9b51348",
   "metadata": {},
   "outputs": [
    {
     "name": "stdout",
     "output_type": "stream",
     "text": [
      "              precision    recall  f1-score   support\n",
      "\n",
      "           0       0.99      0.97      0.98      1039\n",
      "           1       0.97      0.99      0.98      1041\n",
      "\n",
      "    accuracy                           0.98      2080\n",
      "   macro avg       0.98      0.98      0.98      2080\n",
      "weighted avg       0.98      0.98      0.98      2080\n",
      "\n"
     ]
    }
   ],
   "source": [
    "cr_cb = classification_report(y_test,pred_cb)\n",
    "print(cr_cb)"
   ]
  },
  {
   "cell_type": "markdown",
   "id": "6c088c4c",
   "metadata": {},
   "source": [
    "### 3.7 LSTM"
   ]
  },
  {
   "cell_type": "markdown",
   "id": "657af3f0",
   "metadata": {},
   "source": [
    "In this Model, we will be following the below steps :\n",
    "1. The value for embedding_feature_vector = 40 which are target feature vector for embedding layer\n",
    "2. Adding a LSTM Model with 100 nodes\n",
    "3. In case of Binary classification, Dense Layer is used with Sigmoid Activation and single neuron only\n",
    "4. Adding Dropout layer after each layer to avoid overfitting\n",
    "5. Optimizing loss function as \"Binary Crossentropy\" with 'ADAM' optimizer adding metrics as \"Accuracy\""
   ]
  },
  {
   "cell_type": "code",
   "execution_count": 51,
   "id": "12805352",
   "metadata": {},
   "outputs": [
    {
     "name": "stdout",
     "output_type": "stream",
     "text": [
      "Model: \"sequential\"\n",
      "_________________________________________________________________\n",
      " Layer (type)                Output Shape              Param #   \n",
      "=================================================================\n",
      " embedding (Embedding)       (None, 20, 40)            200000    \n",
      "                                                                 \n",
      " dropout (Dropout)           (None, 20, 40)            0         \n",
      "                                                                 \n",
      " lstm (LSTM)                 (None, 100)               56400     \n",
      "                                                                 \n",
      " dropout_1 (Dropout)         (None, 100)               0         \n",
      "                                                                 \n",
      " dense (Dense)               (None, 1)                 101       \n",
      "                                                                 \n",
      "=================================================================\n",
      "Total params: 256,501\n",
      "Trainable params: 256,501\n",
      "Non-trainable params: 0\n",
      "_________________________________________________________________\n",
      "None\n"
     ]
    }
   ],
   "source": [
    "# Creating LSTM for Prediction\n",
    "embedding_feature_vector = 40\n",
    "model_lstm = Sequential()\n",
    "model_lstm.add(Embedding(vocab_size,embedding_feature_vector,input_length = sent_length))\n",
    "model_lstm.add(Dropout(0.3))\n",
    "model_lstm.add(LSTM(100))\n",
    "model_lstm.add(Dropout(0.3))\n",
    "model_lstm.add(Dense(1,activation = 'sigmoid'))\n",
    "model_lstm.compile(loss='binary_crossentropy',optimizer='adam',metrics=['accuracy'])\n",
    "print(model_lstm.summary())"
   ]
  },
  {
   "cell_type": "code",
   "execution_count": 52,
   "id": "07b2016c",
   "metadata": {
    "scrolled": false
   },
   "outputs": [
    {
     "name": "stdout",
     "output_type": "stream",
     "text": [
      "Epoch 1/10\n",
      "264/264 [==============================] - 13s 25ms/step - loss: 0.2079 - accuracy: 0.9113 - val_loss: 0.0495 - val_accuracy: 0.9861\n",
      "Epoch 2/10\n",
      "264/264 [==============================] - 7s 27ms/step - loss: 0.0286 - accuracy: 0.9920 - val_loss: 0.0273 - val_accuracy: 0.9909\n",
      "Epoch 3/10\n",
      "264/264 [==============================] - 6s 24ms/step - loss: 0.0135 - accuracy: 0.9963 - val_loss: 0.0253 - val_accuracy: 0.9904\n",
      "Epoch 4/10\n",
      "264/264 [==============================] - 6s 23ms/step - loss: 0.0073 - accuracy: 0.9984 - val_loss: 0.0235 - val_accuracy: 0.9931\n",
      "Epoch 5/10\n",
      "264/264 [==============================] - 5s 21ms/step - loss: 0.0038 - accuracy: 0.9991 - val_loss: 0.0292 - val_accuracy: 0.9888\n",
      "Epoch 6/10\n",
      "264/264 [==============================] - 5s 20ms/step - loss: 0.0040 - accuracy: 0.9991 - val_loss: 0.0336 - val_accuracy: 0.9904\n",
      "Epoch 7/10\n",
      "264/264 [==============================] - 6s 21ms/step - loss: 0.0018 - accuracy: 0.9996 - val_loss: 0.0504 - val_accuracy: 0.9866\n",
      "Epoch 8/10\n",
      "264/264 [==============================] - 6s 23ms/step - loss: 9.6586e-04 - accuracy: 0.9999 - val_loss: 0.0404 - val_accuracy: 0.9915\n",
      "Epoch 9/10\n",
      "264/264 [==============================] - 5s 20ms/step - loss: 8.2015e-04 - accuracy: 0.9998 - val_loss: 0.0332 - val_accuracy: 0.9909\n",
      "Epoch 10/10\n",
      "264/264 [==============================] - 5s 20ms/step - loss: 9.9194e-04 - accuracy: 0.9998 - val_loss: 0.0389 - val_accuracy: 0.9904\n"
     ]
    },
    {
     "data": {
      "text/plain": [
       "<keras.callbacks.History at 0x1d22d3c9e50>"
      ]
     },
     "execution_count": 52,
     "metadata": {},
     "output_type": "execute_result"
    }
   ],
   "source": [
    "# fitting the model\n",
    "model_lstm.fit(X_train,Y_train,validation_data=(x_valid,y_valid),epochs=10,batch_size=64)"
   ]
  },
  {
   "cell_type": "code",
   "execution_count": 64,
   "id": "68fc2f1f",
   "metadata": {},
   "outputs": [
    {
     "name": "stdout",
     "output_type": "stream",
     "text": [
      "65/65 [==============================] - 0s 7ms/step\n",
      "              precision    recall  f1-score   support\n",
      "\n",
      "           0       0.99      0.99      0.99      1039\n",
      "           1       0.99      0.99      0.99      1041\n",
      "\n",
      "    accuracy                           0.99      2080\n",
      "   macro avg       0.99      0.99      0.99      2080\n",
      "weighted avg       0.99      0.99      0.99      2080\n",
      "\n"
     ]
    }
   ],
   "source": [
    "probabilities = model_lstm.predict(x_test)\n",
    "\n",
    "# Convert probabilities to class labels\n",
    "pred_lstm = np.round(probabilities).astype(int)\n",
    "\n",
    "# Generate and print the classification report\n",
    "cr_lstm = classification_report(y_test, pred_lstm)\n",
    "print(cr_lstm)"
   ]
  },
  {
   "cell_type": "markdown",
   "id": "b2e1bd0a",
   "metadata": {},
   "source": [
    "# <center><h3> Model Evaluation </h3></center>"
   ]
  },
  {
   "cell_type": "code",
   "execution_count": 61,
   "id": "00473ca3",
   "metadata": {},
   "outputs": [
    {
     "data": {
      "text/html": [
       "<div>\n",
       "<style scoped>\n",
       "    .dataframe tbody tr th:only-of-type {\n",
       "        vertical-align: middle;\n",
       "    }\n",
       "\n",
       "    .dataframe tbody tr th {\n",
       "        vertical-align: top;\n",
       "    }\n",
       "\n",
       "    .dataframe thead th {\n",
       "        text-align: right;\n",
       "    }\n",
       "</style>\n",
       "<table border=\"1\" class=\"dataframe\">\n",
       "  <thead>\n",
       "    <tr style=\"text-align: right;\">\n",
       "      <th></th>\n",
       "      <th>0</th>\n",
       "      <th>1</th>\n",
       "    </tr>\n",
       "  </thead>\n",
       "  <tbody>\n",
       "    <tr>\n",
       "      <th>0</th>\n",
       "      <td>Logistic Regression</td>\n",
       "      <td>0.732692</td>\n",
       "    </tr>\n",
       "    <tr>\n",
       "      <th>1</th>\n",
       "      <td>Naive Bayes</td>\n",
       "      <td>0.672115</td>\n",
       "    </tr>\n",
       "    <tr>\n",
       "      <th>2</th>\n",
       "      <td>Decision Tree</td>\n",
       "      <td>0.902885</td>\n",
       "    </tr>\n",
       "    <tr>\n",
       "      <th>3</th>\n",
       "      <td>Random Forest</td>\n",
       "      <td>0.914904</td>\n",
       "    </tr>\n",
       "    <tr>\n",
       "      <th>4</th>\n",
       "      <td>XGBoost</td>\n",
       "      <td>0.984135</td>\n",
       "    </tr>\n",
       "    <tr>\n",
       "      <th>5</th>\n",
       "      <td>CatBoost</td>\n",
       "      <td>0.981250</td>\n",
       "    </tr>\n",
       "    <tr>\n",
       "      <th>6</th>\n",
       "      <td>LSTM</td>\n",
       "      <td>0.989904</td>\n",
       "    </tr>\n",
       "  </tbody>\n",
       "</table>\n",
       "</div>"
      ],
      "text/plain": [
       "                     0         1\n",
       "0  Logistic Regression  0.732692\n",
       "1          Naive Bayes  0.672115\n",
       "2        Decision Tree  0.902885\n",
       "3        Random Forest  0.914904\n",
       "4              XGBoost  0.984135\n",
       "5             CatBoost  0.981250\n",
       "6                 LSTM  0.989904"
      ]
     },
     "execution_count": 61,
     "metadata": {},
     "output_type": "execute_result"
    }
   ],
   "source": [
    "# creating a dataframe and storing the model with their accuracy scores\n",
    "score_logistic = accuracy_score(y_test,pred_logistic)\n",
    "score_nb = accuracy_score(y_test, pred_nb)\n",
    "score_dtree = accuracy_score(y_test,pred_dtree)\n",
    "score_rf = accuracy_score(y_test,pred_rf)\n",
    "score_xgboost = accuracy_score(y_test,pred_xgb)\n",
    "score_catboost = accuracy_score(y_test,pred_cb)\n",
    "score_lstm = accuracy_score(y_test,pred_lstm)\n",
    "\n",
    "Results = pd.DataFrame([['Logistic Regression',score_logistic],['Naive Bayes',score_nb],['Decision Tree',score_dtree],\n",
    "                       ['Random Forest',score_rf],['XGBoost',score_xgboost],['CatBoost',score_catboost],['LSTM',score_lstm]])\n",
    "Results"
   ]
  },
  {
   "cell_type": "markdown",
   "id": "36b28f3d",
   "metadata": {},
   "source": [
    "### From the above results, LSTM has the highest accuracy among all the models. Therefore, we have decided to select it as final model for making predictions on Test Data."
   ]
  },
  {
   "cell_type": "markdown",
   "id": "5081ac9f",
   "metadata": {},
   "source": [
    "## Step 4. Predictions on Test Data"
   ]
  },
  {
   "cell_type": "code",
   "execution_count": 71,
   "id": "2462d044",
   "metadata": {},
   "outputs": [
    {
     "name": "stdout",
     "output_type": "stream",
     "text": [
      "163/163 [==============================] - 1s 8ms/step\n"
     ]
    }
   ],
   "source": [
    "# making prediction on Test Data\n",
    "prob_test = pd.DataFrame(model_lstm.predict(X_test_final))\n",
    "predictions_final = np.round(prob_test).astype(int)\n",
    "test_id = pd.DataFrame(test['id'])\n",
    "Submit = pd.concat([test_id,predictions_final],axis=1)\n",
    "Submit.columns = ['id','Label']\n",
    "Submit.to_csv('Submit.csv', index=False)"
   ]
  },
  {
   "cell_type": "code",
   "execution_count": 72,
   "id": "5a9b51d4",
   "metadata": {},
   "outputs": [
    {
     "data": {
      "text/html": [
       "<div>\n",
       "<style scoped>\n",
       "    .dataframe tbody tr th:only-of-type {\n",
       "        vertical-align: middle;\n",
       "    }\n",
       "\n",
       "    .dataframe tbody tr th {\n",
       "        vertical-align: top;\n",
       "    }\n",
       "\n",
       "    .dataframe thead th {\n",
       "        text-align: right;\n",
       "    }\n",
       "</style>\n",
       "<table border=\"1\" class=\"dataframe\">\n",
       "  <thead>\n",
       "    <tr style=\"text-align: right;\">\n",
       "      <th></th>\n",
       "      <th>id</th>\n",
       "      <th>Label</th>\n",
       "    </tr>\n",
       "  </thead>\n",
       "  <tbody>\n",
       "    <tr>\n",
       "      <th>0</th>\n",
       "      <td>20800</td>\n",
       "      <td>0</td>\n",
       "    </tr>\n",
       "    <tr>\n",
       "      <th>1</th>\n",
       "      <td>20801</td>\n",
       "      <td>1</td>\n",
       "    </tr>\n",
       "    <tr>\n",
       "      <th>2</th>\n",
       "      <td>20802</td>\n",
       "      <td>1</td>\n",
       "    </tr>\n",
       "    <tr>\n",
       "      <th>3</th>\n",
       "      <td>20803</td>\n",
       "      <td>0</td>\n",
       "    </tr>\n",
       "    <tr>\n",
       "      <th>4</th>\n",
       "      <td>20804</td>\n",
       "      <td>1</td>\n",
       "    </tr>\n",
       "  </tbody>\n",
       "</table>\n",
       "</div>"
      ],
      "text/plain": [
       "      id  Label\n",
       "0  20800      0\n",
       "1  20801      1\n",
       "2  20802      1\n",
       "3  20803      0\n",
       "4  20804      1"
      ]
     },
     "execution_count": 72,
     "metadata": {},
     "output_type": "execute_result"
    }
   ],
   "source": [
    "Submit.head()"
   ]
  },
  {
   "cell_type": "code",
   "execution_count": 73,
   "id": "850fa5a3",
   "metadata": {},
   "outputs": [
    {
     "data": {
      "text/plain": [
       "(5200, 2)"
      ]
     },
     "execution_count": 73,
     "metadata": {},
     "output_type": "execute_result"
    }
   ],
   "source": [
    "Submit.shape"
   ]
  },
  {
   "cell_type": "markdown",
   "id": "2c8869e7",
   "metadata": {},
   "source": [
    "# <center><h1> Thank You </h1></center>"
   ]
  }
 ],
 "metadata": {
  "kernelspec": {
   "display_name": "Python 3",
   "language": "python",
   "name": "python3"
  },
  "language_info": {
   "codemirror_mode": {
    "name": "ipython",
    "version": 3
   },
   "file_extension": ".py",
   "mimetype": "text/x-python",
   "name": "python",
   "nbconvert_exporter": "python",
   "pygments_lexer": "ipython3",
   "version": "3.8.8"
  }
 },
 "nbformat": 4,
 "nbformat_minor": 5
}
